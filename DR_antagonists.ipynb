{
  "nbformat": 4,
  "nbformat_minor": 0,
  "metadata": {
    "colab": {
      "name": "TEVC_DR_antagonists_pub.ipynb",
      "provenance": [],
      "collapsed_sections": [
        "XjySS7UgoLEd",
        "JjK-VoX1qYdI",
        "v5SzbQXiQ2Kj",
        "OC23CXhLb-8R"
      ],
      "toc_visible": true,
      "include_colab_link": true
    },
    "kernelspec": {
      "name": "python3",
      "display_name": "Python 3"
    }
  },
  "cells": [
    {
      "cell_type": "markdown",
      "metadata": {
        "id": "view-in-github",
        "colab_type": "text"
      },
      "source": [
        "<a href=\"https://colab.research.google.com/github/hiris25/TEVC-analysis-scripts/blob/master/DR_antagonists.ipynb\" target=\"_parent\"><img src=\"https://colab.research.google.com/assets/colab-badge.svg\" alt=\"Open In Colab\"/></a>"
      ]
    },
    {
      "cell_type": "markdown",
      "metadata": {
        "id": "OZmxhF5uohQ1"
      },
      "source": [
        "# **TEVC - Dose Response - Antagonists**"
      ]
    },
    {
      "cell_type": "markdown",
      "metadata": {
        "id": "XjySS7UgoLEd"
      },
      "source": [
        "## Set up libraries"
      ]
    },
    {
      "cell_type": "code",
      "metadata": {
        "id": "m7jmz3kKcjcM"
      },
      "source": [
        "import pandas as pd\n",
        "import matplotlib.pyplot as plt\n",
        "import numpy as np\n",
        "import seaborn as sns\n",
        "import scipy.optimize as opt\n",
        "from scipy import stats\n",
        "import glob as glob\n",
        "import matplotlib.ticker as ticker\n",
        "\n",
        "%config InlineBackend.figure_format = 'retina'"
      ],
      "execution_count": null,
      "outputs": []
    },
    {
      "cell_type": "markdown",
      "metadata": {
        "id": "pku8fvTqon6w"
      },
      "source": [
        "## Import and prepare data"
      ]
    },
    {
      "cell_type": "markdown",
      "metadata": {
        "id": "wrOnXzdGuD4P"
      },
      "source": [
        "### Import Files\n",
        "\n",
        "Import all files from specified folder and combine into one dataframe called 'df'"
      ]
    },
    {
      "cell_type": "code",
      "metadata": {
        "id": "_WsuguMEBXpj",
        "colab": {
          "base_uri": "https://localhost:8080/"
        },
        "outputId": "38926756-53d8-49f2-b2d3-3b8438029d13"
      },
      "source": [
        "path = r'folderlocation' # use your path\n",
        "all_files = glob.glob(path + \"/*extension.dat\") # use your extension\n",
        "\n",
        "li = []\n",
        "\n",
        "for filename in all_files:\n",
        "    df = pd.read_csv(filename, index_col=None, header=0, sep='\\t') # for .dat files you must specify tab separation sep='\\t'\n",
        "    li.append(df)\n",
        "\n",
        "df = pd.concat(li, axis=0, ignore_index=True)"
      ],
      "execution_count": null,
      "outputs": [
        {
          "output_type": "execute_result",
          "data": {
            "text/plain": [
              "(84, 64)"
            ]
          },
          "metadata": {
            "tags": []
          },
          "execution_count": 3
        }
      ]
    },
    {
      "cell_type": "markdown",
      "metadata": {
        "id": "JjK-VoX1qYdI"
      },
      "source": [
        "### Remove excess coloumns and clean data\n",
        "Here we are keeping only the relevant information, you can add or remove coloumns as you like.\n",
        "We will also be standardising the units and generally cleaning up the data"
      ]
    },
    {
      "cell_type": "code",
      "metadata": {
        "id": "3Aco2__-qZOA"
      },
      "source": [
        "data = df[['Inj. ID 1'] + ['Well'] + ['Buffer'] + ['Comp. 1'] + ['conc. 1'] + ['unit 1'] + ['Minimum'] + ['Baseline Average'] + ['Start Date'] + ['Comp. 2'] + ['conc. 2'] + ['unit 2']]\n",
        "\n",
        "data['date'] = data['Start Date'].str.extract('(../../....)', expand=True)"
      ],
      "execution_count": null,
      "outputs": []
    },
    {
      "cell_type": "markdown",
      "metadata": {
        "id": "NYVlxap8v8j0"
      },
      "source": [
        "Transform units all to uM scale"
      ]
    },
    {
      "cell_type": "code",
      "metadata": {
        "id": "f_d1IqonyfMn"
      },
      "source": [
        "conditions = [\n",
        "    (data['unit 1'] == 'mM'),\n",
        "    (data['unit 1'] == 'µM'),\n",
        "    (data['unit 1'] == 'nM')]\n",
        "choices = ['1000', '1', '0.001']\n",
        "data['factor'] = np.select(conditions, choices, default='0')\n",
        "\n",
        "data['factor']=data.factor.astype(float)\n",
        "\n",
        "data['Comp1_Concentration_µM'] = data['conc. 1'] * data['factor']\n",
        "\n",
        "conditions = [\n",
        "    (data['unit 2'] == 'mM'),\n",
        "    (data['unit 2'] == 'µM'),\n",
        "    (data['unit 2'] == 'nM')]\n",
        "choices = ['1000', '1', '0.001']\n",
        "data['factor'] = np.select(conditions, choices, default='0')\n",
        "\n",
        "data['factor']=data.factor.astype(float)\n",
        "\n",
        "data['Comp2_Concentration_µM'] = data['conc. 2'] * data['factor']\n",
        "\n",
        "data =  data[['Inj. ID 1'] + ['Well'] + ['Buffer'] + ['Comp. 1'] + ['Comp. 2'] + ['Minimum'] + ['Comp2_Concentration_µM'] + ['date'] + ['Comp1_Concentration_µM']]\n",
        "data.reset_index(drop=True)    "
      ],
      "execution_count": null,
      "outputs": []
    },
    {
      "cell_type": "code",
      "metadata": {
        "id": "IUhhutkOGJqY"
      },
      "source": [
        "#decide if comp1 or comp2 is agonist or antagonsit\n",
        "\n",
        "data['log_Agonist_µM'] = np.log(data['Comp2_Concentration_µM'])\n",
        "data['log_Antagonist_µM'] = np.log(data['Comp1_Concentration_µM'])\n",
        "\n",
        "data['Antagonist'] = data['Comp. 1']\n",
        "\n",
        "data['Agonist'] = data['Comp. 2']\n",
        "\n",
        "data['Response'] = data['Minimum']\n",
        "data['Agonist_µM'] = data['Comp2_Concentration_µM']\n",
        "data['Antagonist_µM'] = data['Comp1_Concentration_µM']\n",
        "\n",
        "data = data.drop(columns=['Comp. 2'])\n",
        "data = data.drop(columns=['Comp. 1'])\n",
        "data = data.drop(columns=['Comp2_Concentration_µM'])\n",
        "data = data.drop(columns=['Comp1_Concentration_µM'])"
      ],
      "execution_count": null,
      "outputs": []
    },
    {
      "cell_type": "markdown",
      "metadata": {
        "id": "v5SzbQXiQ2Kj"
      },
      "source": [
        "## Transform data to I/Imax for each oocyte and each compound(optional)\n",
        "\n",
        "comment out if not you do **NOT** want to normalise data"
      ]
    },
    {
      "cell_type": "code",
      "metadata": {
        "id": "heLom6AQQ6wH"
      },
      "source": [
        "minvalues = data.groupby(['Well', 'date', 'Antagonist'])[\"Minimum\"].min()\n",
        "\n",
        "norm = data.Minimum / data.groupby(['Well', 'Antagonist']).Minimum.transform(np.min)\n",
        "\n",
        "data['Response'] = norm\n",
        "\n",
        "data.drop(columns=['Minimum', 'Buffer'])"
      ],
      "execution_count": null,
      "outputs": []
    },
    {
      "cell_type": "code",
      "metadata": {
        "id": "M_VOtjPMb7aN"
      },
      "source": [
        "# Check data (skip if you did I/Imax)\n",
        "#data = data.drop(columns=['Minimum'])"
      ],
      "execution_count": null,
      "outputs": []
    },
    {
      "cell_type": "markdown",
      "metadata": {
        "id": "RK5pk4nHOT0O"
      },
      "source": [
        "## Exclude outliers and whole oocytes"
      ]
    },
    {
      "cell_type": "markdown",
      "metadata": {
        "id": "RffxAfxwOZWF"
      },
      "source": [
        "### Exclude specific oocytes (optional)\n",
        "Use the code below to exclude data for indivdiual oocytes (rows)"
      ]
    },
    {
      "cell_type": "code",
      "metadata": {
        "id": "E2VmviAjCHYC",
        "colab": {
          "base_uri": "https://localhost:8080/"
        },
        "outputId": "39adaa7c-f64e-4d28-c825-04c9cfa86767"
      },
      "source": [
        "#data = data[~data['Well'].isin(['A1'])]"
      ],
      "execution_count": null,
      "outputs": [
        {
          "output_type": "execute_result",
          "data": {
            "text/plain": [
              "(84, 12)"
            ]
          },
          "metadata": {
            "tags": []
          },
          "execution_count": 9
        }
      ]
    },
    {
      "cell_type": "markdown",
      "metadata": {
        "id": "LZOVylTxmD9B"
      },
      "source": [
        "## Calculate means and export data"
      ]
    },
    {
      "cell_type": "markdown",
      "metadata": {
        "id": "xk5Pe1rhoYlV"
      },
      "source": [
        "### Export as .csv\n",
        "comment out if you do not want to export .csv\n",
        "change path and file name before running"
      ]
    },
    {
      "cell_type": "markdown",
      "metadata": {
        "id": "IEmDcQao2vR4"
      },
      "source": [
        "exports grouped mean without outliers, std, N into a new .csv file\n",
        "\n",
        "Includes Agonist and log agonist concentrations in uM"
      ]
    },
    {
      "cell_type": "code",
      "metadata": {
        "id": "dS2UbEZ8mzdU"
      },
      "source": [
        "export = data.groupby(['Antagonist', 'Antagonist_µM'])\n",
        "\n",
        "export = export['Response'].describe()\n",
        "\n",
        "export.head(15)\n",
        "\n",
        "export.to_csv(r'filelocation/filename.csv')"
      ],
      "execution_count": null,
      "outputs": []
    }
  ]
}