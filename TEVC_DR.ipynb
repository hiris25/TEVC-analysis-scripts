{
  "nbformat": 4,
  "nbformat_minor": 0,
  "metadata": {
    "colab": {
      "name": "TEVC-DR-Pub.ipynb",
      "provenance": [],
      "collapsed_sections": [],
      "include_colab_link": true
    },
    "kernelspec": {
      "name": "python3",
      "display_name": "Python 3"
    }
  },
  "cells": [
    {
      "cell_type": "markdown",
      "metadata": {
        "id": "view-in-github",
        "colab_type": "text"
      },
      "source": [
        "<a href=\"https://colab.research.google.com/github/hiris25/TEVC-analysis-scripts/blob/master/TEVC_DR.ipynb\" target=\"_parent\"><img src=\"https://colab.research.google.com/assets/colab-badge.svg\" alt=\"Open In Colab\"/></a>"
      ]
    },
    {
      "cell_type": "markdown",
      "metadata": {
        "id": "OZmxhF5uohQ1"
      },
      "source": [
        "# **TEVC - Dose Response**"
      ]
    },
    {
      "cell_type": "markdown",
      "metadata": {
        "id": "XjySS7UgoLEd"
      },
      "source": [
        "## Set up libraries"
      ]
    },
    {
      "cell_type": "code",
      "metadata": {
        "id": "m7jmz3kKcjcM"
      },
      "source": [
        "import pandas as pd\n",
        "import numpy as np\n",
        "import glob as glob"
      ],
      "execution_count": null,
      "outputs": []
    },
    {
      "cell_type": "markdown",
      "metadata": {
        "id": "pku8fvTqon6w"
      },
      "source": [
        "## Import and prepare data"
      ]
    },
    {
      "cell_type": "markdown",
      "metadata": {
        "id": "wrOnXzdGuD4P"
      },
      "source": [
        "### Import Files\n",
        "\n",
        "Import all files from specified folder and combine into one dataframe called 'df'"
      ]
    },
    {
      "cell_type": "code",
      "metadata": {
        "id": "_WsuguMEBXpj"
      },
      "source": [
        "path = r'/yourfolder' # use your path\n",
        "all_files = glob.glob(path + \"/*extension.dat\") # use your extension\n",
        "\n",
        "li = []\n",
        "\n",
        "for filename in all_files:\n",
        "    df = pd.read_csv(filename, index_col=None, header=0, sep='\\t') # for .dat files you must specify separation for example sep='\\t'\n",
        "    li.append(df)\n",
        "\n",
        "df = pd.concat(li, axis=0, ignore_index=True)"
      ],
      "execution_count": null,
      "outputs": []
    },
    {
      "cell_type": "markdown",
      "metadata": {
        "id": "JjK-VoX1qYdI"
      },
      "source": [
        "### Remove excess coloumns and clean data\n",
        "Here we are keeping only the relevant information, you can add or remove coloumns as you like.\n",
        "We will also be standardising the units and generally cleaning up the data"
      ]
    },
    {
      "cell_type": "code",
      "metadata": {
        "id": "3Aco2__-qZOA"
      },
      "source": [
        "#coloumn names must be updated to those in your files, these are based on the standard coloumn titles from Robocyte2+ software export\n",
        "data =  df[['Well'] + ['Buffer'] + ['Comp. 1'] + ['conc. 1'] + ['unit 1'] + ['Minimum'] + ['Baseline Average'] + ['Start Date']]\n",
        "\n",
        "data['date'] = data['Start Date'].str.extract('(../../....)', expand=True)"
      ],
      "execution_count": null,
      "outputs": []
    },
    {
      "cell_type": "markdown",
      "metadata": {
        "id": "NYVlxap8v8j0"
      },
      "source": [
        "Transform units all to uM scale"
      ]
    },
    {
      "cell_type": "code",
      "metadata": {
        "id": "f_d1IqonyfMn"
      },
      "source": [
        "#Transform units all to µM scale\n",
        "conditions = [\n",
        "    (data['unit 1'] == 'mM'),\n",
        "    (data['unit 1'] == 'µM'),\n",
        "    (data['unit 1'] == 'nM')]\n",
        "\n",
        "choices = ['1000', '1', '0.001']\n",
        "\n",
        "data['factor'] = np.select(conditions, choices, default='0')\n",
        "data['factor']=data.factor.astype(float)\n",
        "data['Agonist_Concentration_µM'] = data['conc. 1'] * data['factor']        "
      ],
      "execution_count": null,
      "outputs": []
    },
    {
      "cell_type": "code",
      "metadata": {
        "id": "3mD3keZrMtXW"
      },
      "source": [
        "data =  data[['Well'] + ['Buffer'] + ['Comp. 1'] + ['Minimum'] + ['Agonist_Concentration_µM'] + ['date']]\n",
        "data.reset_index(drop=True)"
      ],
      "execution_count": null,
      "outputs": []
    },
    {
      "cell_type": "code",
      "metadata": {
        "id": "IUhhutkOGJqY"
      },
      "source": [
        "#data['log_Agonist_µM'] = np.log(data['Agonist_Concentration_µM']) #if you wish to calculate log concentration\n",
        "data['Agonist'] = data['Comp. 1']\n",
        "data['Response'] = data['Minimum']\n",
        "data = data.drop(columns=['Comp. 1'])"
      ],
      "execution_count": null,
      "outputs": []
    },
    {
      "cell_type": "markdown",
      "metadata": {
        "id": "v5SzbQXiQ2Kj"
      },
      "source": [
        "## Transform data to I/Imax for each oocyte"
      ]
    },
    {
      "cell_type": "code",
      "metadata": {
        "id": "heLom6AQQ6wH"
      },
      "source": [
        "norm = data.Minimum / data.groupby(['Well']).Minimum.transform(np.min)\n",
        "data['Response'] = norm\n",
        "normdata = data.drop(columns=['Minimum', 'Buffer']) #drop unwanted coloumns\n",
        "normgroup = normdata.groupby(['Agonist_Concentration_µM']).describe()"
      ],
      "execution_count": null,
      "outputs": []
    },
    {
      "cell_type": "code",
      "metadata": {
        "id": "EHDwFPFRSsqa"
      },
      "source": [
        "grouped_data = normdata.groupby(['Agonist', 'Agonist_Concentration_µM']) #view grouped data\n",
        "grouped_data['Response'].describe()"
      ],
      "execution_count": null,
      "outputs": []
    },
    {
      "cell_type": "markdown",
      "metadata": {
        "id": "xk5Pe1rhoYlV"
      },
      "source": [
        "## Export as .csv\n",
        "comment out if you do not want to export .csv\n",
        "change path and file name before running"
      ]
    },
    {
      "cell_type": "markdown",
      "metadata": {
        "id": "IEmDcQao2vR4"
      },
      "source": [
        "exports grouped mean, std, N into a new .csv file\n",
        "\n",
        "Includes Agonist concentrations in uM"
      ]
    },
    {
      "cell_type": "code",
      "metadata": {
        "id": "dS2UbEZ8mzdU"
      },
      "source": [
        "#export = normdata #select data to export\n",
        "export = normdata.groupby(['Agonist', 'Agonist_Concentration_µM']) #select groups to average\n",
        "export = export['Response'].describe()\n",
        "\n",
        "#export = export.loc[export['Agonist_Concentration_µM'] == 1000.0] #if you wish to export a single dose\n",
        "#export.head(15) #if you wish to view the exported data\n",
        "\n",
        "export.to_csv(r'/yourpath/filename.csv')"
      ],
      "execution_count": null,
      "outputs": []
    }
  ]
}